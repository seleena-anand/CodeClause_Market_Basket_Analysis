{
 "cells": [
  {
   "cell_type": "markdown",
   "id": "d42f925d",
   "metadata": {
    "id": "d42f925d"
   },
   "source": [
    "\n",
    "\n",
    "##  Market Based Analysis Using Apriori algorithm"
   ]
  },
  {
   "cell_type": "markdown",
   "id": "7d126174",
   "metadata": {
    "id": "7d126174"
   },
   "source": [
    "### Importing neccessary libraries"
   ]
  },
  {
   "cell_type": "code",
   "execution_count": null,
   "id": "a8c52273",
   "metadata": {
    "id": "a8c52273"
   },
   "outputs": [],
   "source": [
    "import numpy as np\n",
    "import pandas as pd\n",
    "import matplotlib.pyplot as plt\n",
    "import seaborn as sns\n",
    "import datetime as dt\n",
    "\n",
    "import warnings\n",
    "warnings.filterwarnings('ignore')\n"
   ]
  },
  {
   "cell_type": "code",
   "execution_count": null,
   "id": "9fa50403",
   "metadata": {
    "id": "9fa50403"
   },
   "outputs": [],
   "source": [
    "data = pd.read_csv('market.csv', encoding='ISO-8859-1')"
   ]
  },
  {
   "cell_type": "code",
   "execution_count": null,
   "id": "d902175c",
   "metadata": {
    "colab": {
     "base_uri": "https://localhost:8080/",
     "height": 206
    },
    "id": "d902175c",
    "outputId": "cc53afad-017d-4d8c-f482-be2218ad1602"
   },
   "outputs": [],
   "source": [
    "data.head()"
   ]
  },
  {
   "cell_type": "code",
   "execution_count": null,
   "id": "d04ddcb6",
   "metadata": {
    "colab": {
     "base_uri": "https://localhost:8080/"
    },
    "id": "d04ddcb6",
    "outputId": "f66b884a-4972-453f-92d6-a80d4e0f00b0"
   },
   "outputs": [],
   "source": [
    "data.shape"
   ]
  },
  {
   "cell_type": "code",
   "execution_count": null,
   "id": "f525fd1a",
   "metadata": {
    "colab": {
     "base_uri": "https://localhost:8080/"
    },
    "id": "f525fd1a",
    "outputId": "be1c1583-cc9e-40e4-b9fd-67da293d98b3"
   },
   "outputs": [],
   "source": [
    "data.columns.values"
   ]
  },
  {
   "cell_type": "code",
   "execution_count": null,
   "id": "62f2e501",
   "metadata": {
    "colab": {
     "base_uri": "https://localhost:8080/"
    },
    "id": "62f2e501",
    "outputId": "af9ea2b1-14a6-4aca-a119-87ec14eb73b1"
   },
   "outputs": [],
   "source": [
    "data.info()"
   ]
  },
  {
   "cell_type": "code",
   "execution_count": null,
   "id": "5cdce057",
   "metadata": {
    "id": "5cdce057",
    "outputId": "e4ff4313-a4f6-4ba9-9a5f-63b4387e9bc2"
   },
   "outputs": [],
   "source": [
    "data.describe()"
   ]
  },
  {
   "cell_type": "markdown",
   "id": "2800a6d6",
   "metadata": {
    "id": "2800a6d6"
   },
   "source": [
    "### Data Cleaning"
   ]
  },
  {
   "cell_type": "code",
   "execution_count": null,
   "id": "5af52f68",
   "metadata": {
    "id": "5af52f68"
   },
   "outputs": [],
   "source": [
    "#Converting the invoiceNo column to be string\n",
    "data['InvoiceNo'] = data['InvoiceNo'].astype('str')"
   ]
  },
  {
   "cell_type": "code",
   "execution_count": null,
   "id": "d232eae5",
   "metadata": {
    "id": "d232eae5",
    "outputId": "14185524-5af7-4ca5-d158-778ff39a8560"
   },
   "outputs": [],
   "source": [
    "data.sort_values('InvoiceNo',ascending=False)"
   ]
  },
  {
   "cell_type": "markdown",
   "id": "e1f05ce0",
   "metadata": {
    "id": "e1f05ce0"
   },
   "source": [
    "##### Invoice number starts with C is canceled transactions.We will delete this data,because we want successful transactions only"
   ]
  },
  {
   "cell_type": "code",
   "execution_count": null,
   "id": "0ddb6c52",
   "metadata": {
    "id": "0ddb6c52"
   },
   "outputs": [],
   "source": [
    "data = data[~data['InvoiceNo'].str.contains('C')]"
   ]
  },
  {
   "cell_type": "code",
   "execution_count": null,
   "id": "67a1eca7",
   "metadata": {
    "id": "67a1eca7",
    "outputId": "5789dfd0-c77e-4184-ffe0-955d30f6e5ef"
   },
   "outputs": [],
   "source": [
    "data.shape"
   ]
  },
  {
   "cell_type": "code",
   "execution_count": null,
   "id": "bd1a4339",
   "metadata": {
    "id": "bd1a4339",
    "outputId": "a8ed34fa-324b-4107-92e4-0701d3ed3fcf"
   },
   "outputs": [],
   "source": [
    "def missingvalue(data):\n",
    "    missing_value = data.isnull().sum(axis = 0).reset_index()\n",
    "    missing_value.columns = ['variable', 'number_of_missing']\n",
    "    missing_value['percentage_of_missing'] = (missing_value['number_of_missing'])/data.shape[0]*100\n",
    "    mv = missing_value.sort_values('percentage_of_missing', ascending = False).reset_index(drop=True)\n",
    "    return mv\n",
    "missingvalue(data)"
   ]
  },
  {
   "cell_type": "markdown",
   "id": "89516175",
   "metadata": {
    "id": "89516175"
   },
   "source": [
    "##### We have missing values  in the customerID and description we drop the missing values that will not cause any problem because of large data"
   ]
  },
  {
   "cell_type": "code",
   "execution_count": null,
   "id": "302d96fc",
   "metadata": {
    "id": "302d96fc"
   },
   "outputs": [],
   "source": [
    "data=data.dropna(subset=['CustomerID','Description'])"
   ]
  },
  {
   "cell_type": "code",
   "execution_count": null,
   "id": "423d3774",
   "metadata": {
    "id": "423d3774",
    "outputId": "cdfde2d2-2591-418a-a5a8-803d7b418ddf"
   },
   "outputs": [],
   "source": [
    "missingvalue(data)"
   ]
  },
  {
   "cell_type": "code",
   "execution_count": null,
   "id": "03d2874f",
   "metadata": {
    "id": "03d2874f"
   },
   "outputs": [],
   "source": [
    "#Removing the spaces trail and head spaces in the description\n",
    "data['Description'] = data['Description'].str.strip()"
   ]
  },
  {
   "cell_type": "code",
   "execution_count": null,
   "id": "0c5c9181",
   "metadata": {
    "id": "0c5c9181",
    "outputId": "17bd4dbd-5d35-4317-e07c-0f75c8c005cc"
   },
   "outputs": [],
   "source": [
    "data.shape"
   ]
  },
  {
   "cell_type": "code",
   "execution_count": null,
   "id": "06520251",
   "metadata": {
    "id": "06520251",
    "outputId": "41ef2e1c-f149-4ce5-e1b7-4cc2f4e936ee"
   },
   "outputs": [],
   "source": [
    "data.info()\n",
    "data['CustomerID'] =data['CustomerID'].astype('int')"
   ]
  },
  {
   "cell_type": "code",
   "execution_count": null,
   "id": "90c0d44c",
   "metadata": {
    "id": "90c0d44c",
    "outputId": "a3d59716-e345-43f0-a87b-ebe804711956"
   },
   "outputs": [],
   "source": [
    "data.describe()"
   ]
  },
  {
   "cell_type": "markdown",
   "id": "93ab3447",
   "metadata": {
    "id": "93ab3447"
   },
   "source": [
    "## EDA(Exploratory Data Analysis)"
   ]
  },
  {
   "cell_type": "markdown",
   "id": "5c67a7b3",
   "metadata": {
    "id": "5c67a7b3"
   },
   "source": [
    "##### Analyze the sales performance of this company,and providing insights regarding the same"
   ]
  },
  {
   "cell_type": "code",
   "execution_count": null,
   "id": "2466e93c",
   "metadata": {
    "id": "2466e93c",
    "outputId": "2b8edae7-43f8-4796-af58-655481c4a7f0"
   },
   "outputs": [],
   "source": [
    "#Grouping the countries by Total amount of sales\n",
    "country_price = data.groupby('Country')['Quantity'].sum().sort_values(ascending = False)\n",
    "country_price"
   ]
  },
  {
   "cell_type": "code",
   "execution_count": null,
   "id": "b2bf3bad",
   "metadata": {
    "id": "b2bf3bad",
    "outputId": "ec16c081-0b05-42f4-d005-4353915c0bd5"
   },
   "outputs": [],
   "source": [
    "#Top 5 countries with high number of purchase\n",
    "country_price[:5].plot(kind='bar')"
   ]
  },
  {
   "cell_type": "code",
   "execution_count": null,
   "id": "f1b4b64a",
   "metadata": {
    "id": "f1b4b64a",
    "outputId": "dc169922-932a-4685-e68d-cd169375edc2"
   },
   "outputs": [],
   "source": [
    "#5 countries with least number of purchase\n",
    "country_price[33:].plot(kind='bar')"
   ]
  },
  {
   "cell_type": "markdown",
   "id": "834aed39",
   "metadata": {
    "id": "834aed39"
   },
   "source": [
    "#### What products do customers buy the most?"
   ]
  },
  {
   "cell_type": "code",
   "execution_count": null,
   "id": "25c79284",
   "metadata": {
    "id": "25c79284",
    "outputId": "3b652bbb-5be5-4431-b9a7-8da9293d1a86"
   },
   "outputs": [],
   "source": [
    "plt.figure(figsize = (14,7))\n",
    "ax = sns.countplot(y = data['Description'], \n",
    "                   order = data[\"Description\"].value_counts().iloc[:10].index, \n",
    "                   palette = \"GnBu_d\")\n",
    "ax.set_title(\"Top 5 Frequently Purchased Products\", size = 20, pad=15)\n",
    "ax.set_xlabel(\"Count\", size = 15)\n",
    "ax.set_ylabel(\"Product\", size = 15)\n",
    "ax.xaxis.set_tick_params(labelsize=11)\n",
    "ax.yaxis.set_tick_params(labelsize=11)\n",
    "plt.show()"
   ]
  },
  {
   "cell_type": "markdown",
   "id": "63a78414",
   "metadata": {
    "id": "63a78414"
   },
   "source": [
    "#### How many orders(per month)"
   ]
  },
  {
   "cell_type": "code",
   "execution_count": null,
   "id": "0cb54fdf",
   "metadata": {
    "id": "0cb54fdf",
    "outputId": "36d87a93-5036-4434-f8e5-24697b8b04c5",
    "scrolled": false
   },
   "outputs": [],
   "source": [
    "\n",
    "# Assuming 'InvoiceDate' is not already in datetime format, convert it to datetime\n",
    "data['InvoiceDate'] = pd.to_datetime(data['InvoiceDate'])\n",
    "\n",
    "# Group by month and count unique 'InvoiceNo'\n",
    "order_month = data.groupby(data['InvoiceDate'].dt.month)['InvoiceNo'].nunique()\n",
    "\n",
    "# Plot the result\n",
    "plt.figure(figsize=(8, 4))\n",
    "ax = sns.barplot(x=order_month.index, y=order_month.values, palette=\"Set2\")\n",
    "plt.xlabel('Month')\n",
    "plt.ylabel('Number of Orders')\n",
    "plt.show()\n"
   ]
  },
  {
   "cell_type": "markdown",
   "id": "f92cc7f6",
   "metadata": {
    "id": "f92cc7f6"
   },
   "source": [
    "#### How many orders(per week)"
   ]
  },
  {
   "cell_type": "code",
   "execution_count": null,
   "id": "7f3d9cd9",
   "metadata": {
    "id": "7f3d9cd9",
    "outputId": "aa316f06-a20e-49eb-d0b6-717880a3892f"
   },
   "outputs": [],
   "source": [
    "\n",
    "# Assuming 'InvoiceDate' is not already in datetime format, convert it to datetime\n",
    "data['InvoiceDate'] = pd.to_datetime(data['InvoiceDate'])\n",
    "\n",
    "# Group by day of the week and count unique 'InvoiceNo'\n",
    "order_day = data.groupby(data['InvoiceDate'].dt.dayofweek)['InvoiceNo'].nunique()\n",
    "\n",
    "# Map the day of the week numeric values to their names\n",
    "day_names = ['Monday', 'Tuesday', 'Wednesday', 'Thursday', 'Friday', 'Saturday', 'Sunday']\n",
    "order_day.index = [day_names[idx] for idx in order_day.index]\n",
    "\n",
    "# Plot the result\n",
    "plt.figure(figsize=(8, 4))\n",
    "ax = sns.barplot(x=order_day.index, y=order_day.values, palette=\"Set2\")\n",
    "plt.xlabel('Day of the Week')\n",
    "plt.ylabel('Number of Orders')\n",
    "ax.xaxis.set_tick_params(labelsize=11)\n",
    "ax.yaxis.set_tick_params(labelsize=11)\n",
    "plt.show()\n"
   ]
  },
  {
   "cell_type": "markdown",
   "id": "badb9be0",
   "metadata": {
    "id": "badb9be0"
   },
   "source": [
    "#### How many orders(per hour)"
   ]
  },
  {
   "cell_type": "code",
   "execution_count": null,
   "id": "a1b84f53",
   "metadata": {
    "id": "a1b84f53",
    "outputId": "acb609db-e626-4972-b0df-fd2a55900ccd"
   },
   "outputs": [],
   "source": [
    "order_hour = data.groupby(data['InvoiceDate'].dt.hour)['InvoiceNo'].nunique()\n",
    "\n",
    "plt.figure(figsize = (8,4))\n",
    "ax = sns.barplot(x = 'InvoiceDate', y = 'InvoiceNo', data = order_hour.reset_index(), palette = \"colorblind\")\n",
    "ax.set_title('Number of Transactions Occured Each Hour', size = 20)\n",
    "ax.set_xlabel('Hour', size = 14)\n",
    "ax.set_ylabel('Number of Transaction', size = 14)\n",
    "ax.xaxis.set_tick_params(labelsize=11)\n",
    "ax.yaxis.set_tick_params(labelsize=11)\n",
    "plt.show()"
   ]
  },
  {
   "cell_type": "code",
   "execution_count": null,
   "id": "37b76b11",
   "metadata": {
    "id": "37b76b11",
    "outputId": "933b1edf-2c75-49fd-af14-a52bdf0c869b"
   },
   "outputs": [],
   "source": [
    "# Adding year feature to the dataset \n",
    "\n",
    "timest = data['InvoiceDate'].dt.year\n",
    "\n",
    "data['Year'] = timest\n",
    "\n",
    "data.head()"
   ]
  },
  {
   "cell_type": "code",
   "execution_count": null,
   "id": "426ea946",
   "metadata": {
    "id": "426ea946"
   },
   "outputs": [],
   "source": [
    "TotalAmount = data['Quantity'] * data['UnitPrice']\n",
    "data.insert(loc=5,column='TotalAmount',value=TotalAmount)"
   ]
  },
  {
   "cell_type": "code",
   "execution_count": null,
   "id": "fbffaaf1",
   "metadata": {
    "id": "fbffaaf1",
    "outputId": "3648b64a-53aa-4ee0-c848-1eac41ff8612"
   },
   "outputs": [],
   "source": [
    "price_cust = pd.pivot_table(data, index='CustomerID', values='TotalAmount', aggfunc=np.sum)\n",
    "print('The following are 5 customers who spend the most money on Online Retail:')\n",
    "price_cust.sort_values('TotalAmount', ascending=False)[:5]"
   ]
  },
  {
   "cell_type": "code",
   "execution_count": null,
   "id": "720cf86f",
   "metadata": {
    "id": "720cf86f",
    "outputId": "d138f2e0-96fb-42e6-b729-109a16cd32b1"
   },
   "outputs": [],
   "source": [
    "order_cust = pd.pivot_table(data, index='CustomerID', values='InvoiceNo', aggfunc=pd.Series.nunique)\n",
    "print('The following are the 5 customers who most frequently shop at Online Retail:')\n",
    "order_cust.sort_values('InvoiceNo', ascending=False)[:5]"
   ]
  },
  {
   "cell_type": "code",
   "execution_count": null,
   "id": "6e1b919c",
   "metadata": {
    "id": "6e1b919c",
    "outputId": "9b6c81be-9ca2-442a-c376-fadf7b0ba502"
   },
   "outputs": [],
   "source": [
    "data.groupby('Year')['TotalAmount'].sum().plot(kind = 'bar')"
   ]
  },
  {
   "cell_type": "code",
   "execution_count": null,
   "id": "bbf09c76",
   "metadata": {
    "id": "bbf09c76",
    "outputId": "fdceee63-d380-40b8-a66a-a5880463571c"
   },
   "outputs": [],
   "source": [
    "#Sales for different month on the year 2011\n",
    "data['Mon'] = data['InvoiceDate'].dt.month\n",
    "data['month'] = data['InvoiceDate'].dt.month_name() \n",
    "data.groupby(['Mon','Year'])['TotalAmount'].sum().plot(kind = 'bar', title = 'Sales month wise')"
   ]
  },
  {
   "cell_type": "code",
   "execution_count": null,
   "id": "8694b317",
   "metadata": {
    "id": "8694b317",
    "outputId": "63ec0c13-a991-40af-b92d-fca3e49b10a3"
   },
   "outputs": [],
   "source": [
    "print('Min: {}\\nMax: {}'.format(min(data['InvoiceDate']), max(data['InvoiceDate'])))"
   ]
  },
  {
   "cell_type": "code",
   "execution_count": null,
   "id": "a9c75778",
   "metadata": {
    "id": "a9c75778",
    "outputId": "cf40f23c-73e0-43da-c919-c22d841e169f"
   },
   "outputs": [],
   "source": [
    "#Countries with more number of customers\n",
    "cus_id = pd.DataFrame(data.groupby('Country')['CustomerID'].count().sort_values(ascending = False))\n",
    "cus_id[:5].plot(kind = 'bar', title = 'Most Customers for country')"
   ]
  },
  {
   "cell_type": "code",
   "execution_count": null,
   "id": "7d038ab6",
   "metadata": {
    "id": "7d038ab6",
    "outputId": "08d665a4-56bd-4344-9437-904284cd985d"
   },
   "outputs": [],
   "source": [
    "# Countries with less number of customers\n",
    "cus_id[-5:].plot(kind = 'bar', title = 'Least customers for country')"
   ]
  },
  {
   "cell_type": "markdown",
   "id": "f08fe71b",
   "metadata": {
    "id": "f08fe71b"
   },
   "source": [
    "#### Support\n",
    "It measures the percentage of itemset occurrence in all transactions."
   ]
  },
  {
   "cell_type": "markdown",
   "id": "c9349a84",
   "metadata": {
    "id": "c9349a84"
   },
   "source": [
    "#### Confidence\n",
    "Confidence measures how strong the association rule is. How often item Y appears in the purchase transaction of item X.\n",
    "\n"
   ]
  },
  {
   "cell_type": "markdown",
   "id": "3d5a0a9d",
   "metadata": {
    "id": "3d5a0a9d"
   },
   "source": [
    "#### Lift\n",
    "Lift of the rule is defined as the ratio of observed support to the support expected in the case the elements of the rule were independent. Lift values > 1 are generally more “interesting” and could be indicative of a useful rule pattern."
   ]
  },
  {
   "cell_type": "code",
   "execution_count": null,
   "id": "70e75ded",
   "metadata": {
    "id": "70e75ded"
   },
   "outputs": [],
   "source": [
    "from mlxtend.frequent_patterns import apriori\n",
    "from mlxtend.frequent_patterns import association_rules"
   ]
  },
  {
   "cell_type": "code",
   "execution_count": null,
   "id": "20ad3f90",
   "metadata": {
    "id": "20ad3f90",
    "outputId": "acb52881-23ea-48ec-b3a0-706fe365983e"
   },
   "outputs": [],
   "source": [
    "print('Top 5 Country in Online Retail:')\n",
    "data['Country'].value_counts()[:5]"
   ]
  },
  {
   "cell_type": "code",
   "execution_count": null,
   "id": "434d352f",
   "metadata": {
    "id": "434d352f",
    "outputId": "3c429057-3996-4f8f-c9e7-28f60507bd9c"
   },
   "outputs": [],
   "source": [
    "data = data[data['Country']=='United Kingdom']\n",
    "data.head()"
   ]
  },
  {
   "cell_type": "code",
   "execution_count": null,
   "id": "2cc2ec32",
   "metadata": {
    "id": "2cc2ec32",
    "outputId": "8863a22d-2825-4e02-fa7e-0b9ef9b7705b"
   },
   "outputs": [],
   "source": [
    "basket = data.groupby(['InvoiceNo','Description'])['Quantity'].sum().unstack().reset_index().fillna(0).set_index('InvoiceNo')\n",
    "basket.head()"
   ]
  },
  {
   "cell_type": "code",
   "execution_count": null,
   "id": "6d136694",
   "metadata": {
    "id": "6d136694",
    "outputId": "3985024b-1259-48aa-a8f2-290e423b47f6"
   },
   "outputs": [],
   "source": [
    "def encode_units(x):\n",
    "    if x <= 0:\n",
    "        return 0\n",
    "    if x >= 1:\n",
    "        return 1\n",
    "basket_sets = basket.applymap(encode_units)\n",
    "basket_sets.drop('POSTAGE', axis = 1, inplace = True)\n",
    "basket_sets.head()"
   ]
  },
  {
   "cell_type": "code",
   "execution_count": null,
   "id": "ea9616aa",
   "metadata": {
    "id": "ea9616aa",
    "outputId": "21a35d20-8db6-4be2-fee8-777813f8086b"
   },
   "outputs": [],
   "source": [
    "frequent_itemsets = apriori(basket_sets, min_support = 0.02, use_colnames= True)"
   ]
  },
  {
   "cell_type": "code",
   "execution_count": null,
   "id": "72042f8a",
   "metadata": {
    "id": "72042f8a",
    "outputId": "b7de4af4-ea44-4e87-95fc-c6fb394d4d98"
   },
   "outputs": [],
   "source": [
    "rules = association_rules(frequent_itemsets, metric=\"lift\", min_threshold=1)\n",
    "rules.sort_values('support', ascending=False)"
   ]
  },
  {
   "cell_type": "code",
   "execution_count": null,
   "id": "3c8b2941",
   "metadata": {
    "id": "3c8b2941",
    "outputId": "67672116-8307-41f1-c369-22e2afb1dd00"
   },
   "outputs": [],
   "source": [
    "import seaborn as sns\n",
    "import matplotlib.pyplot as plt\n",
    "\n",
    "\n",
    "# Generate scatterplot using support and confidence\n",
    "sns.scatterplot(x = \"support\", y = \"confidence\", \n",
    "                size = \"lift\", data = rules)\n",
    "plt.show()"
   ]
  },
  {
   "cell_type": "code",
   "execution_count": null,
   "id": "8a187595",
   "metadata": {
    "id": "8a187595",
    "outputId": "edfecbb2-ff5c-4652-f53b-9e3e6553bd1f"
   },
   "outputs": [],
   "source": [
    "rules[ (rules['lift'] >= 6) &\n",
    "       (rules['confidence'] >= 0.8) ]"
   ]
  },
  {
   "cell_type": "code",
   "execution_count": null,
   "id": "4a926b6c",
   "metadata": {
    "id": "4a926b6c",
    "outputId": "ae969f91-a901-40a6-a793-2b421f4c4fd0"
   },
   "outputs": [],
   "source": [
    "print(\"ALARM CLOCK BAKELIKE GREEN : \",basket['ALARM CLOCK BAKELIKE GREEN'].sum())\n",
    "print(\"ALARM CLOCK BAKELIKE RED : \",basket['ALARM CLOCK BAKELIKE RED'].sum())"
   ]
  },
  {
   "cell_type": "markdown",
   "id": "f8ede8c4",
   "metadata": {
    "id": "f8ede8c4"
   },
   "source": [
    "#### Conclusion Market Basket Analysis\n",
    "From the market basket analysis, it is found that customers who buy PINK REGENCY TEACUP AND SAUCER tend to buy GREEN REGENCY TEACUP AND SAUCER. The three most frequent associations for lift over 6 and confidence above 8 are items related to teacup and saucer. Perhaps we can provide more color variants on the teacup. "
   ]
  }
 ],
 "metadata": {
  "colab": {
   "provenance": []
  },
  "kernelspec": {
   "display_name": "Python 3 (ipykernel)",
   "language": "python",
   "name": "python3"
  },
  "language_info": {
   "codemirror_mode": {
    "name": "ipython",
    "version": 3
   },
   "file_extension": ".py",
   "mimetype": "text/x-python",
   "name": "python",
   "nbconvert_exporter": "python",
   "pygments_lexer": "ipython3",
   "version": "3.10.9"
  }
 },
 "nbformat": 4,
 "nbformat_minor": 5
}
